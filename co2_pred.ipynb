{
 "cells": [
  {
   "cell_type": "code",
   "execution_count": 80,
   "metadata": {},
   "outputs": [],
   "source": [
    "import numpy as np\n",
    "import pandas as pd"
   ]
  },
  {
   "cell_type": "code",
   "execution_count": 81,
   "metadata": {},
   "outputs": [],
   "source": [
    "gpus = pd.read_csv('data/gpus.csv')\n",
    "impact = pd.read_csv('data/impact.csv')\n",
    "instances = pd.read_csv('data/instances.csv')"
   ]
  },
  {
   "cell_type": "code",
   "execution_count": 82,
   "metadata": {},
   "outputs": [
    {
     "data": {
      "text/html": [
       "<div>\n",
       "<style scoped>\n",
       "    .dataframe tbody tr th:only-of-type {\n",
       "        vertical-align: middle;\n",
       "    }\n",
       "\n",
       "    .dataframe tbody tr th {\n",
       "        vertical-align: top;\n",
       "    }\n",
       "\n",
       "    .dataframe thead th {\n",
       "        text-align: right;\n",
       "    }\n",
       "</style>\n",
       "<table border=\"1\" class=\"dataframe\">\n",
       "  <thead>\n",
       "    <tr style=\"text-align: right;\">\n",
       "      <th></th>\n",
       "      <th>name</th>\n",
       "      <th>type</th>\n",
       "      <th>tdp_watts</th>\n",
       "      <th>TFLOPS32</th>\n",
       "      <th>TFLOPS16</th>\n",
       "      <th>GFLOPS32/W</th>\n",
       "      <th>GFLOPS16/W</th>\n",
       "      <th>memory</th>\n",
       "      <th>source</th>\n",
       "    </tr>\n",
       "  </thead>\n",
       "  <tbody>\n",
       "    <tr>\n",
       "      <th>0</th>\n",
       "      <td>A100 PCIe 40/80GB</td>\n",
       "      <td>gpu</td>\n",
       "      <td>250</td>\n",
       "      <td>NaN</td>\n",
       "      <td>312.00</td>\n",
       "      <td>NaN</td>\n",
       "      <td>NaN</td>\n",
       "      <td>40.0</td>\n",
       "      <td>https://www.nvidia.com/content/dam/en-zz/Solut...</td>\n",
       "    </tr>\n",
       "    <tr>\n",
       "      <th>1</th>\n",
       "      <td>A100 SXM4 80 GB</td>\n",
       "      <td>gpu</td>\n",
       "      <td>400</td>\n",
       "      <td>NaN</td>\n",
       "      <td>312.00</td>\n",
       "      <td>NaN</td>\n",
       "      <td>NaN</td>\n",
       "      <td>80.0</td>\n",
       "      <td>https://www.nvidia.com/content/dam/en-zz/Solut...</td>\n",
       "    </tr>\n",
       "    <tr>\n",
       "      <th>2</th>\n",
       "      <td>AGX Xavier</td>\n",
       "      <td>gpu</td>\n",
       "      <td>30</td>\n",
       "      <td>16.000</td>\n",
       "      <td>32.00</td>\n",
       "      <td>533.33</td>\n",
       "      <td>1066.67</td>\n",
       "      <td>NaN</td>\n",
       "      <td>https://elinux.org/Jetson_AGX_Xavier</td>\n",
       "    </tr>\n",
       "    <tr>\n",
       "      <th>3</th>\n",
       "      <td>AMD RX480</td>\n",
       "      <td>gpu</td>\n",
       "      <td>150</td>\n",
       "      <td>5.800</td>\n",
       "      <td>5.80</td>\n",
       "      <td>38.67</td>\n",
       "      <td>38.67</td>\n",
       "      <td>8.0</td>\n",
       "      <td>techpowerup.com</td>\n",
       "    </tr>\n",
       "    <tr>\n",
       "      <th>4</th>\n",
       "      <td>GIGABYTE GTX 1660 OC</td>\n",
       "      <td>gpu</td>\n",
       "      <td>120</td>\n",
       "      <td>5.153</td>\n",
       "      <td>10.31</td>\n",
       "      <td>NaN</td>\n",
       "      <td>NaN</td>\n",
       "      <td>6.0</td>\n",
       "      <td>https://www.techpowerup.com/gpu-specs/gigabyte...</td>\n",
       "    </tr>\n",
       "  </tbody>\n",
       "</table>\n",
       "</div>"
      ],
      "text/plain": [
       "                   name type  tdp_watts  TFLOPS32   TFLOPS16  GFLOPS32/W  \\\n",
       "0     A100 PCIe 40/80GB  gpu        250       NaN     312.00         NaN   \n",
       "1       A100 SXM4 80 GB  gpu        400       NaN     312.00         NaN   \n",
       "2            AGX Xavier  gpu         30    16.000      32.00      533.33   \n",
       "3             AMD RX480  gpu        150     5.800       5.80       38.67   \n",
       "4  GIGABYTE GTX 1660 OC  gpu        120     5.153      10.31         NaN   \n",
       "\n",
       "  GFLOPS16/W  memory                                             source  \n",
       "0        NaN    40.0  https://www.nvidia.com/content/dam/en-zz/Solut...  \n",
       "1        NaN    80.0  https://www.nvidia.com/content/dam/en-zz/Solut...  \n",
       "2    1066.67     NaN               https://elinux.org/Jetson_AGX_Xavier  \n",
       "3      38.67     8.0                                    techpowerup.com  \n",
       "4        NaN     6.0  https://www.techpowerup.com/gpu-specs/gigabyte...  "
      ]
     },
     "execution_count": 82,
     "metadata": {},
     "output_type": "execute_result"
    }
   ],
   "source": [
    "gpus.head()"
   ]
  },
  {
   "cell_type": "code",
   "execution_count": 83,
   "metadata": {},
   "outputs": [
    {
     "data": {
      "text/html": [
       "<div>\n",
       "<style scoped>\n",
       "    .dataframe tbody tr th:only-of-type {\n",
       "        vertical-align: middle;\n",
       "    }\n",
       "\n",
       "    .dataframe tbody tr th {\n",
       "        vertical-align: top;\n",
       "    }\n",
       "\n",
       "    .dataframe thead th {\n",
       "        text-align: right;\n",
       "    }\n",
       "</style>\n",
       "<table border=\"1\" class=\"dataframe\">\n",
       "  <thead>\n",
       "    <tr style=\"text-align: right;\">\n",
       "      <th></th>\n",
       "      <th>provider</th>\n",
       "      <th>providerName</th>\n",
       "      <th>offsetRatio</th>\n",
       "      <th>region</th>\n",
       "      <th>regionName</th>\n",
       "      <th>country</th>\n",
       "      <th>state</th>\n",
       "      <th>city</th>\n",
       "      <th>impact</th>\n",
       "      <th>source</th>\n",
       "      <th>PUE</th>\n",
       "      <th>PUE source</th>\n",
       "      <th>comment</th>\n",
       "    </tr>\n",
       "  </thead>\n",
       "  <tbody>\n",
       "    <tr>\n",
       "      <th>0</th>\n",
       "      <td>gcp</td>\n",
       "      <td>Google Cloud Platform</td>\n",
       "      <td>100</td>\n",
       "      <td>asia-east1</td>\n",
       "      <td>NaN</td>\n",
       "      <td>Taiwan</td>\n",
       "      <td>NaN</td>\n",
       "      <td>Changhua County</td>\n",
       "      <td>557.0</td>\n",
       "      <td>measured on  July 2, 2019 between 8 and 9 PM, ...</td>\n",
       "      <td>1.12</td>\n",
       "      <td>https://www.google.com/about/datacenters/effic...</td>\n",
       "      <td>Datacenter-specific</td>\n",
       "    </tr>\n",
       "    <tr>\n",
       "      <th>1</th>\n",
       "      <td>gcp</td>\n",
       "      <td>Google Cloud Platform</td>\n",
       "      <td>100</td>\n",
       "      <td>asia-east2</td>\n",
       "      <td>NaN</td>\n",
       "      <td>China</td>\n",
       "      <td>NaN</td>\n",
       "      <td>Hong Kong</td>\n",
       "      <td>702.0</td>\n",
       "      <td>https://www.sciencedirect.com/science/article/...</td>\n",
       "      <td>NaN</td>\n",
       "      <td>NaN</td>\n",
       "      <td>NaN</td>\n",
       "    </tr>\n",
       "    <tr>\n",
       "      <th>2</th>\n",
       "      <td>gcp</td>\n",
       "      <td>Google Cloud Platform</td>\n",
       "      <td>100</td>\n",
       "      <td>asia-northeast1</td>\n",
       "      <td>NaN</td>\n",
       "      <td>Japan</td>\n",
       "      <td>NaN</td>\n",
       "      <td>Tokyo</td>\n",
       "      <td>516.0</td>\n",
       "      <td>https://www.sciencedirect.com/science/article/...</td>\n",
       "      <td>NaN</td>\n",
       "      <td>NaN</td>\n",
       "      <td>NaN</td>\n",
       "    </tr>\n",
       "    <tr>\n",
       "      <th>3</th>\n",
       "      <td>gcp</td>\n",
       "      <td>Google Cloud Platform</td>\n",
       "      <td>100</td>\n",
       "      <td>asia-northeast2</td>\n",
       "      <td>NaN</td>\n",
       "      <td>Japan</td>\n",
       "      <td>NaN</td>\n",
       "      <td>Osaka</td>\n",
       "      <td>516.0</td>\n",
       "      <td>https://www.fepc.or.jp/library/pamphlet/pdf/04...</td>\n",
       "      <td>NaN</td>\n",
       "      <td>NaN</td>\n",
       "      <td>NaN</td>\n",
       "    </tr>\n",
       "    <tr>\n",
       "      <th>4</th>\n",
       "      <td>gcp</td>\n",
       "      <td>Google Cloud Platform</td>\n",
       "      <td>100</td>\n",
       "      <td>asia-south1</td>\n",
       "      <td>NaN</td>\n",
       "      <td>India</td>\n",
       "      <td>NaN</td>\n",
       "      <td>Mumbai</td>\n",
       "      <td>920.0</td>\n",
       "      <td>https://www.fepc.or.jp/library/pamphlet/pdf/04...</td>\n",
       "      <td>NaN</td>\n",
       "      <td>NaN</td>\n",
       "      <td>NaN</td>\n",
       "    </tr>\n",
       "  </tbody>\n",
       "</table>\n",
       "</div>"
      ],
      "text/plain": [
       "  provider           providerName  offsetRatio           region regionName  \\\n",
       "0      gcp  Google Cloud Platform          100       asia-east1        NaN   \n",
       "1      gcp  Google Cloud Platform          100       asia-east2        NaN   \n",
       "2      gcp  Google Cloud Platform          100  asia-northeast1        NaN   \n",
       "3      gcp  Google Cloud Platform          100  asia-northeast2        NaN   \n",
       "4      gcp  Google Cloud Platform          100      asia-south1        NaN   \n",
       "\n",
       "  country state             city  impact  \\\n",
       "0  Taiwan   NaN  Changhua County   557.0   \n",
       "1   China   NaN        Hong Kong   702.0   \n",
       "2   Japan   NaN            Tokyo   516.0   \n",
       "3   Japan   NaN            Osaka   516.0   \n",
       "4   India   NaN           Mumbai   920.0   \n",
       "\n",
       "                                              source   PUE  \\\n",
       "0  measured on  July 2, 2019 between 8 and 9 PM, ...  1.12   \n",
       "1  https://www.sciencedirect.com/science/article/...   NaN   \n",
       "2  https://www.sciencedirect.com/science/article/...   NaN   \n",
       "3  https://www.fepc.or.jp/library/pamphlet/pdf/04...   NaN   \n",
       "4  https://www.fepc.or.jp/library/pamphlet/pdf/04...   NaN   \n",
       "\n",
       "                                          PUE source              comment  \n",
       "0  https://www.google.com/about/datacenters/effic...  Datacenter-specific  \n",
       "1                                                NaN                  NaN  \n",
       "2                                                NaN                  NaN  \n",
       "3                                                NaN                  NaN  \n",
       "4                                                NaN                  NaN  "
      ]
     },
     "execution_count": 83,
     "metadata": {},
     "output_type": "execute_result"
    }
   ],
   "source": [
    "impact.head()"
   ]
  },
  {
   "cell_type": "code",
   "execution_count": 84,
   "metadata": {},
   "outputs": [
    {
     "data": {
      "text/html": [
       "<div>\n",
       "<style scoped>\n",
       "    .dataframe tbody tr th:only-of-type {\n",
       "        vertical-align: middle;\n",
       "    }\n",
       "\n",
       "    .dataframe tbody tr th {\n",
       "        vertical-align: top;\n",
       "    }\n",
       "\n",
       "    .dataframe thead th {\n",
       "        text-align: right;\n",
       "    }\n",
       "</style>\n",
       "<table border=\"1\" class=\"dataframe\">\n",
       "  <thead>\n",
       "    <tr style=\"text-align: right;\">\n",
       "      <th></th>\n",
       "      <th>provider</th>\n",
       "      <th>id</th>\n",
       "      <th>gpu</th>\n",
       "      <th>source</th>\n",
       "    </tr>\n",
       "  </thead>\n",
       "  <tbody>\n",
       "    <tr>\n",
       "      <th>0</th>\n",
       "      <td>aws</td>\n",
       "      <td>p3.2xlarge</td>\n",
       "      <td>Tesla V100</td>\n",
       "      <td>https://aws.amazon.com/fr/ec2/instance-types/p3/</td>\n",
       "    </tr>\n",
       "    <tr>\n",
       "      <th>1</th>\n",
       "      <td>aws</td>\n",
       "      <td>p3.8xlarge</td>\n",
       "      <td>Tesla V100</td>\n",
       "      <td>https://aws.amazon.com/fr/ec2/instance-types/p3/</td>\n",
       "    </tr>\n",
       "    <tr>\n",
       "      <th>2</th>\n",
       "      <td>aws</td>\n",
       "      <td>p3.16xlarge</td>\n",
       "      <td>Tesla V100</td>\n",
       "      <td>https://aws.amazon.com/fr/ec2/instance-types/p3/</td>\n",
       "    </tr>\n",
       "    <tr>\n",
       "      <th>3</th>\n",
       "      <td>aws</td>\n",
       "      <td>p3dn.24xlarge</td>\n",
       "      <td>Tesla V100</td>\n",
       "      <td>https://aws.amazon.com/fr/ec2/instance-types/p3/</td>\n",
       "    </tr>\n",
       "    <tr>\n",
       "      <th>4</th>\n",
       "      <td>aws</td>\n",
       "      <td>p2.xlarge</td>\n",
       "      <td>Tesla K80</td>\n",
       "      <td>https://aws.amazon.com/fr/ec2/instance-types/p2/</td>\n",
       "    </tr>\n",
       "  </tbody>\n",
       "</table>\n",
       "</div>"
      ],
      "text/plain": [
       "  provider             id         gpu  \\\n",
       "0      aws     p3.2xlarge  Tesla V100   \n",
       "1      aws     p3.8xlarge  Tesla V100   \n",
       "2      aws    p3.16xlarge  Tesla V100   \n",
       "3      aws  p3dn.24xlarge  Tesla V100   \n",
       "4      aws      p2.xlarge   Tesla K80   \n",
       "\n",
       "                                              source  \n",
       "0   https://aws.amazon.com/fr/ec2/instance-types/p3/  \n",
       "1   https://aws.amazon.com/fr/ec2/instance-types/p3/  \n",
       "2   https://aws.amazon.com/fr/ec2/instance-types/p3/  \n",
       "3   https://aws.amazon.com/fr/ec2/instance-types/p3/  \n",
       "4   https://aws.amazon.com/fr/ec2/instance-types/p2/  "
      ]
     },
     "execution_count": 84,
     "metadata": {},
     "output_type": "execute_result"
    }
   ],
   "source": [
    "instances.head()"
   ]
  },
  {
   "cell_type": "code",
   "execution_count": 85,
   "metadata": {},
   "outputs": [
    {
     "data": {
      "text/plain": [
       "[('A100 PCIe 40/80GB', 250),\n",
       " ('A100 SXM4 80 GB', 400),\n",
       " ('AGX Xavier', 30),\n",
       " ('AMD RX480', 150),\n",
       " ('GIGABYTE GTX 1660 OC', 120)]"
      ]
     },
     "execution_count": 85,
     "metadata": {},
     "output_type": "execute_result"
    }
   ],
   "source": [
    "gpu_power = gpus[['name', 'tdp_watts']].copy()\n",
    "gpu_power.index = gpu_power['name']\n",
    "gpu_power = gpu_power.drop('name', axis=1)\n",
    "gpu_power = gpu_power.to_dict()['tdp_watts']\n",
    "list(gpu_power.items())[:5]"
   ]
  },
  {
   "cell_type": "code",
   "execution_count": 95,
   "metadata": {},
   "outputs": [],
   "source": [
    "carbon_region = impact[['providerName', 'region', 'impact']].copy()\n",
    "carbon_region['impact'] = carbon_region['impact'].apply(lambda x: x / 1000)\n",
    "# convert to a nested dictionary with provider -> region -> impact\n",
    "carbon_region = carbon_region.groupby(['providerName', 'region']).sum().reset_index()\n",
    "carbon_region = carbon_region.set_index(['providerName', 'region'])\n",
    "carbon_region = carbon_region.to_dict()['impact']\n",
    "carbon_region\n",
    "\n",
    "new_carbon_region = {}\n",
    "for (provider, region), val in carbon_region.items():\n",
    "    new_carbon_region.setdefault(provider, {})[region] = val\n",
    "carbon_region = new_carbon_region"
   ]
  },
  {
   "cell_type": "code",
   "execution_count": 87,
   "metadata": {},
   "outputs": [
    {
     "name": "stdout",
     "output_type": "stream",
     "text": [
      "CO2 emission for GTX 1080 Ti in Amazon Web Services us-west-1 for 100 hours: 6.01 kg eq. CO2\n"
     ]
    }
   ],
   "source": [
    "# test inputs\n",
    "hardware_type = 'GTX 1080 Ti'\n",
    "region = 'us-west-1'\n",
    "platform = 'Amazon Web Services'\n",
    "time = 100 # hours\n",
    "\n",
    "# formula\n",
    "co2_emission = gpu_power[hardware_type] * time * carbon_region[platform][region] / 1000\n",
    "print(f\"CO2 emission for {hardware_type} in {platform} {region} for {time} hours: {co2_emission:.2f} kg eq. CO2\")"
   ]
  },
  {
   "cell_type": "code",
   "execution_count": 88,
   "metadata": {},
   "outputs": [
    {
     "name": "stdout",
     "output_type": "stream",
     "text": [
      "CO2 emission for GTX 1080 Ti in Google Cloud Platform us-west1 for 100 hours: 7.44 kg eq. CO2\n"
     ]
    }
   ],
   "source": [
    "# test inputs\n",
    "hardware_type = 'GTX 1080 Ti'\n",
    "region = 'us-west1'\n",
    "platform = 'Google Cloud Platform'\n",
    "time = 100 # hours\n",
    "\n",
    "# formula\n",
    "co2_emission = gpu_power[hardware_type] * time * carbon_region[platform][region] / 1000\n",
    "print(f\"CO2 emission for {hardware_type} in {platform} {region} for {time} hours: {co2_emission:.2f} kg eq. CO2\")"
   ]
  },
  {
   "cell_type": "code",
   "execution_count": 89,
   "metadata": {},
   "outputs": [
    {
     "name": "stdout",
     "output_type": "stream",
     "text": [
      "Equivalent distance driven by an average passenger vehicle: 30.08 km\n",
      "Equivalent coal burned: 3.73 kg\n",
      "Equivalent CO2 sequestrated by seedling trees in 10 years: 0.12 trees\n"
     ]
    }
   ],
   "source": [
    "kgC02PerKm = (3.98 * 1e-4 * 1e3) / 1.609344\n",
    "eqDriven = co2_emission / kgC02PerKm\n",
    "print(f\"Equivalent distance driven by an average passenger vehicle: {eqDriven:.2f} km\")\n",
    "\n",
    "kgCoalBurnedPerKg = 9.05 * 1e-4 * 1e3 * 2.204623\n",
    "eqCoalBurned = co2_emission / kgCoalBurnedPerKg\n",
    "print(f\"Equivalent coal burned: {eqCoalBurned:.2f} kg\")\n",
    "\n",
    "kgC02SequestratedBySeedling = 0.06 * 1e3\n",
    "eqSeedling = co2_emission / kgC02SequestratedBySeedling\n",
    "print(f\"Equivalent CO2 sequestrated by seedling trees in 10 years: {eqSeedling:.2f} trees\")"
   ]
  },
  {
   "cell_type": "code",
   "execution_count": 111,
   "metadata": {},
   "outputs": [
    {
     "data": {
      "text/plain": [
       "['Google Cloud Platform',\n",
       " 'Amazon Web Services',\n",
       " 'Azure',\n",
       " 'OVHCloud',\n",
       " 'CoreWeave',\n",
       " 'Seeweb']"
      ]
     },
     "execution_count": 111,
     "metadata": {},
     "output_type": "execute_result"
    }
   ],
   "source": [
    "cloud_providers = list(impact['providerName'].unique())\n",
    "cloud_providers.remove('Scaleway')\n",
    "cloud_providers"
   ]
  },
  {
   "cell_type": "code",
   "execution_count": null,
   "metadata": {},
   "outputs": [],
   "source": [
    "hardware_types = list(gpus['name'].unique())\n",
    "hardware_types"
   ]
  },
  {
   "cell_type": "code",
   "execution_count": 115,
   "metadata": {},
   "outputs": [],
   "source": [
    "# create regions as a dictionary of provider -> region\n",
    "regions = {}\n",
    "for provider in cloud_providers:\n",
    "    regions[provider] = list(carbon_region[provider].keys())"
   ]
  },
  {
   "cell_type": "code",
   "execution_count": 120,
   "metadata": {},
   "outputs": [],
   "source": [
    "from codecarbon import track_emissions\n",
    "\n",
    "@track_emissions()\n",
    "def calculate_llm_emissions(num_queries):\n",
    "        \"\"\"\n",
    "        Calculate CO2 emissions for Large Language Models.\n",
    "        \"\"\"\n",
    "        # CO2 emissions per query\n",
    "        co2_emission_per_query = 4.2e-3\n",
    "        co2_emissions = num_queries * co2_emission_per_query\n",
    "        return co2_emissions"
   ]
  },
  {
   "cell_type": "code",
   "execution_count": 122,
   "metadata": {},
   "outputs": [],
   "source": [
    "@track_emissions()\n",
    "def heavy_computation(num_queries):\n",
    "        \"\"\"\n",
    "        Perform a computationally heavy task.\n",
    "        \"\"\"\n",
    "        for _ in range(num_queries):\n",
    "            for _ in range(1000):\n",
    "                _ = np.linalg.eigvals(np.random.rand(100, 100))\n",
    "        return"
   ]
  }
 ],
 "metadata": {
  "kernelspec": {
   "display_name": "Python 3",
   "language": "python",
   "name": "python3"
  },
  "language_info": {
   "codemirror_mode": {
    "name": "ipython",
    "version": 3
   },
   "file_extension": ".py",
   "mimetype": "text/x-python",
   "name": "python",
   "nbconvert_exporter": "python",
   "pygments_lexer": "ipython3",
   "version": "3.12.5"
  }
 },
 "nbformat": 4,
 "nbformat_minor": 2
}
